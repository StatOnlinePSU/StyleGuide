{
  "cells": [
    {
      "cell_type": "markdown",
      "metadata": {},
      "source": [
        "# Sample Lesson\n",
        "\n",
        "## Overview {.unnumbered .unlisted}\n",
        "\n",
        ":::{.objectiveblock}\n",
        "\n",
        "<i class=\"bi bi-check2-circle\"></i><span class=\"callout-header\">Objectives</span>\n",
        "\n",
        "\n",
        "Upon completion of this lesson, you should be able to:\n",
        "\n",
        "------------------------------------------------------------------------\n",
        "1. Objective 1\n",
        "2. Objective 2\n",
        "3. Objective 3\n",
        ":::\n",
        "\n",
        "#### Objective block {.unnumbered .unlisted}\n",
        "\n",
        "```{markdown}\n",
        ":::{.objectiveblock}\n",
        "\n",
        "<i class=\"bi bi-check2-circle\"></i><span class=\"callout-header\">Objectives</span>\n",
        "\n",
        "\n",
        "Upon completion of this lesson, you should be able to:\n",
        "\n",
        "------------------------------------------------------------------------\n",
        "1. Objective 1\n",
        "2. Objective 2\n",
        "3. Objective 3\n",
        ":::\n",
        "```\n",
        "\n",
        "\n",
        "## First numbered subpage\n",
        "\n",
        "### H3 for numbered sub-sub page"
      ],
      "id": "9d7228fa"
    }
  ],
  "metadata": {
    "kernelspec": {
      "display_name": "Python 3",
      "language": "python",
      "name": "python3"
    }
  },
  "nbformat": 4,
  "nbformat_minor": 5
}