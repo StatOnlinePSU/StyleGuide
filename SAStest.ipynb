{
  "cells": [
    {
      "cell_type": "raw",
      "id": "7178fc89",
      "metadata": {},
      "source": [
        "---\n",
        "title: Quarto Demo with SAS\n",
        "format: html\n",
        "self-contained: true\n",
        "---"
      ]
    },
    {
      "cell_type": "markdown",
      "id": "198ecf08",
      "metadata": {},
      "source": [
        "### Jupyter SAS kernel\n"
      ]
    }
  ],
  "metadata": {
    "kernelspec": {
      "display_name": "SAS",
      "language": "sas",
      "name": "sas"
    },
    "language_info": {
      "codemirror_mode": "sas",
      "file_extension": ".sas",
      "mimetype": "text/x-sas",
      "name": "sas"
    }
  },
  "nbformat": 4,
  "nbformat_minor": 5
}
